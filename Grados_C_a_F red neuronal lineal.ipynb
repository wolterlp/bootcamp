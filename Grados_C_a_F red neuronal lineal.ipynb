{
  "nbformat": 4,
  "nbformat_minor": 0,
  "metadata": {
    "colab": {
      "provenance": [],
      "authorship_tag": "ABX9TyMaI4CDEF4ago1+Lw3hYwnB",
      "include_colab_link": true
    },
    "kernelspec": {
      "name": "python3",
      "display_name": "Python 3"
    },
    "language_info": {
      "name": "python"
    }
  },
  "cells": [
    {
      "cell_type": "markdown",
      "metadata": {
        "id": "view-in-github",
        "colab_type": "text"
      },
      "source": [
        "<a href=\"https://colab.research.google.com/github/wolterlp/bootcamp/blob/main/Grados_C_a_F%20red%20neuronal%20lineal.ipynb\" target=\"_parent\"><img src=\"https://colab.research.google.com/assets/colab-badge.svg\" alt=\"Open In Colab\"/></a>"
      ]
    },
    {
      "cell_type": "code",
      "execution_count": 1,
      "metadata": {
        "id": "Fs8TmnOqKcEK"
      },
      "outputs": [],
      "source": [
        "import tensorflow as tf\n",
        "import numpy as np"
      ]
    },
    {
      "cell_type": "code",
      "source": [
        "celsius = np.array([-40, 10, 0, 8, 15, 22, 38], dtype = float)\n",
        "fahrenheit = np.array([-40, 14, 32, 46, 59, 72, 100], dtype = float)"
      ],
      "metadata": {
        "id": "dQ62pQK7L4yY"
      },
      "execution_count": 2,
      "outputs": []
    },
    {
      "cell_type": "code",
      "source": [
        "#capa = tf.keras.layers.Dense(units=1, input_shape=[1])\n",
        "#modelo = tf.keras.Sequential([capa])\n",
        "\n",
        "oculta1 = tf.keras.layers.Dense(units=3, input_shape=[1])\n",
        "oculta2 = tf.keras.layers.Dense(units=3)\n",
        "Salida =  tf.keras.layers.Dense(units=1)\n",
        "\n",
        "modelo =  tf.keras.Sequential([oculta1, oculta2, Salida])"
      ],
      "metadata": {
        "id": "mp1Q2vQgPrHn"
      },
      "execution_count": 20,
      "outputs": []
    },
    {
      "cell_type": "code",
      "source": [
        "modelo.compile(\n",
        "    optimizer =tf.keras.optimizers.Adam(0.1),\n",
        "    loss ='mean_squared_error'\n",
        ")"
      ],
      "metadata": {
        "id": "00olfT-GSpNu"
      },
      "execution_count": 22,
      "outputs": []
    },
    {
      "cell_type": "code",
      "source": [
        "print(\"comenzamos entrenamiento..\")\n",
        "historial =modelo.fit(celsius, fahrenheit, epochs=1000, verbose=False)\n",
        "print(\"Entrenamiento terminado\")"
      ],
      "metadata": {
        "colab": {
          "base_uri": "https://localhost:8080/"
        },
        "id": "zZbJzT4cViE-",
        "outputId": "8c35cd3b-d239-4384-d891-30efe66dbd41"
      },
      "execution_count": 24,
      "outputs": [
        {
          "output_type": "stream",
          "name": "stdout",
          "text": [
            "comenzamos entrenamiento..\n",
            "Entrenamiento terminado\n"
          ]
        }
      ]
    },
    {
      "cell_type": "code",
      "source": [
        "import matplotlib.pyplot as plt\n",
        "plt.xlabel(\"# vueltas\")\n",
        "plt.ylabel(\"Magnitud de perdida\")\n",
        "plt.plot(historial.history[\"loss\"])"
      ],
      "metadata": {
        "colab": {
          "base_uri": "https://localhost:8080/",
          "height": 466
        },
        "id": "iecP2vLvXoJd",
        "outputId": "6f5749be-4321-4169-a90f-ad78c64b41e3"
      },
      "execution_count": 25,
      "outputs": [
        {
          "output_type": "execute_result",
          "data": {
            "text/plain": [
              "[<matplotlib.lines.Line2D at 0x7be44edf6890>]"
            ]
          },
          "metadata": {},
          "execution_count": 25
        },
        {
          "output_type": "display_data",
          "data": {
            "text/plain": [
              "<Figure size 640x480 with 1 Axes>"
            ],
            "image/png": "[encoded data removed]"
          },
          "metadata": {}
        }
      ]
    },
    {
      "cell_type": "code",
      "source": [
        "print(\"Prueba de prediccion\")\n",
        "resultado = modelo.predict([100])\n",
        "print(\"El resultado es :\" + str(resultado)+\"fahrenheit\")"
      ],
      "metadata": {
        "colab": {
          "base_uri": "https://localhost:8080/"
        },
        "id": "U1iBLKJRaIse",
        "outputId": "39898233-061d-4ab1-b3e3-4b4abeec5402"
      },
      "execution_count": 28,
      "outputs": [
        {
          "output_type": "stream",
          "name": "stdout",
          "text": [
            "Prueba de prediccion\n",
            "1/1 [==============================] - 0s 35ms/step\n",
            "El resultado es :[[204.32753]]fahrenheit\n"
          ]
        }
      ]
    },
    {
      "cell_type": "code",
      "source": [
        "print(\"variables internas del modelo\")\n",
        "#print(capa.get_weights())\n",
        "print(oculta1.get_weights())\n",
        "print(oculta2.get_weights())\n",
        "print(Salida.get_weights())"
      ],
      "metadata": {
        "colab": {
          "base_uri": "https://localhost:8080/"
        },
        "id": "p7xAmEZUcPWZ",
        "outputId": "eeb9c198-34f0-40fa-f39a-0849e75cb5f1"
      },
      "execution_count": 29,
      "outputs": [
        {
          "output_type": "stream",
          "name": "stdout",
          "text": [
            "variables internas del modelo\n",
            "[array([[-0.03497284,  0.6894977 ,  0.02476953]], dtype=float32), array([-3.96381  ,  3.890291 ,  3.6653228], dtype=float32)]\n",
            "[array([[ 0.00643412, -0.08438376,  0.6945975 ],\n",
            "       [-0.12362013,  1.0876445 , -1.0360577 ],\n",
            "       [ 0.6832623 , -0.11201295, -0.43257415]], dtype=float32), array([-2.3055615,  3.8195734, -3.8931823], dtype=float32)]\n",
            "[array([[-0.15596823],\n",
            "       [ 1.2975541 ],\n",
            "       [-1.0532372 ]], dtype=float32), array([3.6913881], dtype=float32)]\n"
          ]
        }
      ]
    },
    {
      "cell_type": "code",
      "source": [],
      "metadata": {
        "id": "44xeox0UcW3N"
      },
      "execution_count": null,
      "outputs": []
    }
  ]
}